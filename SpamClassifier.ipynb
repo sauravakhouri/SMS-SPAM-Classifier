{
 "cells": [
  {
   "cell_type": "markdown",
   "metadata": {},
   "source": [
    "## Preprocessing and Model Training"
   ]
  },
  {
   "cell_type": "code",
   "execution_count": 57,
   "metadata": {
    "ExecuteTime": {
     "end_time": "2021-05-21T12:42:16.835877Z",
     "start_time": "2021-05-21T12:41:46.855194Z"
    }
   },
   "outputs": [],
   "source": [
    "import pandas as pd\n",
    "import re\n",
    "import nltk\n",
    "from nltk.corpus import stopwords\n",
    "from nltk.stem.porter import PorterStemmer\n",
    "from sklearn.feature_extraction.text import CountVectorizer\n",
    "from sklearn.model_selection import train_test_split\n",
    "from sklearn.naive_bayes import MultinomialNB\n",
    "\n",
    "\n",
    "messages = pd.read_csv('SMSSpamCollection', sep='\\t',\n",
    "                           names=[\"label\", \"message\"])\n",
    "\n",
    "#Data cleaning and preprocessing\n",
    "\n",
    "\n",
    "\n",
    "ps = PorterStemmer()\n",
    "corpus = []\n",
    "for i in range(0, len(messages)):\n",
    "    review = re.sub('[^a-zA-Z]', ' ', messages['message'][i])\n",
    "    review = review.lower()\n",
    "    review = review.split()\n",
    "    \n",
    "    review = [ps.stem(word) for word in review if not word in stopwords.words('english')]\n",
    "    review = ' '.join(review)\n",
    "    corpus.append(review)\n",
    "    \n",
    "    \n",
    "    \n",
    "# Creating the Bag of Words model\n",
    "cv = CountVectorizer(max_features=2500)\n",
    "X = cv.fit_transform(corpus).toarray()\n",
    "\n",
    "\n",
    "\n",
    "\n",
    "y=pd.get_dummies(messages['label'])\n",
    "y=y.iloc[:,1].values\n",
    "\n",
    "\n",
    "# Train Test Split\n",
    "\n",
    "\n",
    "X_train, X_test, y_train, y_test = train_test_split(X, y, test_size = 0.20, random_state = 0)\n",
    "\n",
    "# Training model using Naive bayes classifier\n",
    "\n",
    "\n",
    "spam_detect_model = MultinomialNB().fit(X_train, y_train)\n",
    "\n",
    "y_pred=spam_detect_model.predict(X_test)\n",
    "\n"
   ]
  },
  {
   "cell_type": "markdown",
   "metadata": {},
   "source": [
    "## Model Evaluation"
   ]
  },
  {
   "cell_type": "code",
   "execution_count": 58,
   "metadata": {
    "ExecuteTime": {
     "end_time": "2021-05-21T12:42:16.851857Z",
     "start_time": "2021-05-21T12:42:16.839874Z"
    }
   },
   "outputs": [
    {
     "data": {
      "text/plain": [
       "array([[946,   9],\n",
       "       [  7, 153]], dtype=int64)"
      ]
     },
     "execution_count": 58,
     "metadata": {},
     "output_type": "execute_result"
    }
   ],
   "source": [
    "#confusion Matrix\n",
    "\n",
    "from sklearn.metrics import classification_report\n",
    "from sklearn.metrics import confusion_matrix\n",
    "from sklearn.metrics import accuracy_score\n",
    "\n",
    "conf_matrx=confusion_matrix(y_test,y_pred)\n",
    "conf_matrx\n"
   ]
  },
  {
   "cell_type": "code",
   "execution_count": 59,
   "metadata": {
    "ExecuteTime": {
     "end_time": "2021-05-21T12:43:30.001830Z",
     "start_time": "2021-05-21T12:43:29.977825Z"
    }
   },
   "outputs": [
    {
     "name": "stdout",
     "output_type": "stream",
     "text": [
      "spam: 0.95625\n",
      "not spam: 0.9905759162303664\n"
     ]
    }
   ],
   "source": [
    "# Recall\n",
    "\n",
    "class_report=classification_report(y_test,y_pred,output_dict=True)\n",
    "print(f\"spam: {class_report['1']['recall']}\")\n",
    "print(f\"not spam: {class_report['0']['recall']}\")"
   ]
  },
  {
   "cell_type": "code",
   "execution_count": 60,
   "metadata": {
    "ExecuteTime": {
     "end_time": "2021-05-21T12:43:30.848170Z",
     "start_time": "2021-05-21T12:43:30.819964Z"
    }
   },
   "outputs": [
    {
     "name": "stdout",
     "output_type": "stream",
     "text": [
      "spam: 0.9503105590062112\n",
      "not spam: 0.9916142557651991\n"
     ]
    }
   ],
   "source": [
    "#f1-score\n",
    "\n",
    "class_report=classification_report(y_test,y_pred,output_dict=True)\n",
    "print(f\"spam: {class_report['1']['f1-score']}\")\n",
    "print(f\"not spam: {class_report['0']['f1-score']}\")"
   ]
  },
  {
   "cell_type": "code",
   "execution_count": 61,
   "metadata": {
    "ExecuteTime": {
     "end_time": "2021-05-21T12:43:32.421112Z",
     "start_time": "2021-05-21T12:43:32.400684Z"
    }
   },
   "outputs": [
    {
     "data": {
      "text/plain": [
       "0.9856502242152466"
      ]
     },
     "execution_count": 61,
     "metadata": {},
     "output_type": "execute_result"
    }
   ],
   "source": [
    "#accuracy\n",
    "accuracy=accuracy_score(y_test,y_pred)\n",
    "accuracy"
   ]
  },
  {
   "cell_type": "markdown",
   "metadata": {},
   "source": [
    "## Testing with use case input"
   ]
  },
  {
   "cell_type": "code",
   "execution_count": 62,
   "metadata": {
    "ExecuteTime": {
     "end_time": "2021-05-21T12:43:36.222100Z",
     "start_time": "2021-05-21T12:43:33.636905Z"
    }
   },
   "outputs": [
    {
     "name": "stdout",
     "output_type": "stream",
     "text": [
      "write a msg: URGENT!! You paytm password has expired. To prevent it from being suspended you have to activate it. To agree, click here htm/fjf/sj.com\n",
      "msg is a spam\n"
     ]
    }
   ],
   "source": [
    "a=input('write a msg: ')\n",
    "\n",
    "vector=cv.transform([a])  #[a] is converting to list\n",
    "my_pred=spam_detect_model.predict(vector)\n",
    "# print(my_pred)\n",
    "\n",
    "if my_pred==1:\n",
    "    print('msg is a spam')\n",
    "else:\n",
    "    print('msg is not a spam')"
   ]
  },
  {
   "cell_type": "code",
   "execution_count": null,
   "metadata": {},
   "outputs": [],
   "source": [
    "URGENT!! You paytm password has expired. To prevent it from being suspended you have to activate it. To agree, click here htm/fjf/sj.com"
   ]
  },
  {
   "cell_type": "code",
   "execution_count": 63,
   "metadata": {
    "ExecuteTime": {
     "end_time": "2021-05-21T12:43:39.715030Z",
     "start_time": "2021-05-21T12:43:39.619108Z"
    }
   },
   "outputs": [
    {
     "data": {
      "text/plain": [
       "['SpamClassifier_vector.pkl']"
      ]
     },
     "execution_count": 63,
     "metadata": {},
     "output_type": "execute_result"
    }
   ],
   "source": [
    "# saving the model\n",
    "\n",
    "import joblib\n",
    "\n",
    "model_filename='SpamClassifier_model.pkl'\n",
    "vector_filename='SpamClassifier_vector.pkl'\n",
    "joblib.dump(spam_detect_model,model_filename)\n",
    "joblib.dump(cv,vector_filename)"
   ]
  },
  {
   "cell_type": "code",
   "execution_count": null,
   "metadata": {},
   "outputs": [],
   "source": []
  }
 ],
 "metadata": {
  "kernelspec": {
   "display_name": "Python 3",
   "language": "python",
   "name": "python3"
  },
  "language_info": {
   "codemirror_mode": {
    "name": "ipython",
    "version": 3
   },
   "file_extension": ".py",
   "mimetype": "text/x-python",
   "name": "python",
   "nbconvert_exporter": "python",
   "pygments_lexer": "ipython3",
   "version": "3.8.3"
  }
 },
 "nbformat": 4,
 "nbformat_minor": 4
}
